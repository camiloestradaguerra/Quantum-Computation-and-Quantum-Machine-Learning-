{
 "cells": [
  {
   "cell_type": "code",
   "execution_count": 20,
   "id": "30359a15",
   "metadata": {},
   "outputs": [],
   "source": [
    "import numpy as np\n",
    "from qiskit import QuantumCircuit"
   ]
  },
  {
   "cell_type": "markdown",
   "id": "d0c74095",
   "metadata": {},
   "source": [
    "Construcción del Circuito"
   ]
  },
  {
   "cell_type": "code",
   "execution_count": 21,
   "id": "0ad83582",
   "metadata": {},
   "outputs": [],
   "source": [
    "# Creamos un circuito cuantico que actua sobre un registro cuantico de tres qubits\n",
    "circ = QuantumCircuit(3)"
   ]
  },
  {
   "cell_type": "markdown",
   "id": "8731c618",
   "metadata": {},
   "source": [
    "Aplicacion de compuertas logicas"
   ]
  },
  {
   "cell_type": "code",
   "execution_count": 22,
   "id": "49b1b27f",
   "metadata": {},
   "outputs": [
    {
     "data": {
      "text/plain": [
       "<qiskit.circuit.instructionset.InstructionSet at 0x7f8709cb2b00>"
      ]
     },
     "execution_count": 22,
     "metadata": {},
     "output_type": "execute_result"
    }
   ],
   "source": [
    "# Aplicamos la compuerta H en el qubit 0, dejando este qubit en superposición \n",
    "circ.h(0)\n",
    "\n",
    "# Aplicamos la compuerta CX (CNOT) con el qubit de control 0 y el qubit target 1\n",
    "circ.cx(0,1)\n",
    "\n",
    "# Aplicamos la compuerta CX (CNOT) con el qubit de control 0 y el qubit target 2\n",
    "circ.cx(0,2)"
   ]
  },
  {
   "cell_type": "markdown",
   "id": "95d09461",
   "metadata": {},
   "source": [
    "Visualizacion del circuito"
   ]
  },
  {
   "cell_type": "code",
   "execution_count": 23,
   "id": "844466ef",
   "metadata": {},
   "outputs": [
    {
     "data": {
      "image/png": "[encoded data removed]",
      "text/plain": [
       "<Figure size 267.197x204.68 with 1 Axes>"
      ]
     },
     "execution_count": 23,
     "metadata": {},
     "output_type": "execute_result"
    }
   ],
   "source": [
    "# Visualizacion del circuito\n",
    "circ.draw('mpl')"
   ]
  },
  {
   "cell_type": "markdown",
   "id": "ca743484",
   "metadata": {},
   "source": [
    "Simulacion del circuito"
   ]
  },
  {
   "cell_type": "code",
   "execution_count": 7,
   "id": "b87f172a",
   "metadata": {},
   "outputs": [
    {
     "data": {
      "text/latex": [
       "$$\\frac{\\sqrt{2}}{2} |000\\rangle+\\frac{\\sqrt{2}}{2} |111\\rangle$$"
      ],
      "text/plain": [
       "<IPython.core.display.Latex object>"
      ]
     },
     "execution_count": 7,
     "metadata": {},
     "output_type": "execute_result"
    }
   ],
   "source": [
    "from qiskit.quantum_info import Statevector\n",
    "\n",
    "# Establecemos el estado inicial del simulador en el estado base usando from_int\n",
    "state = Statevector.from_int(0, 2**3)\n",
    "\n",
    "# Evolucionamos el estado a traves del circuito cuantico\n",
    "state = state.evolve(circ)\n",
    "\n",
    "# Dibujamos usando latex\n",
    "state.draw('latex')"
   ]
  },
  {
   "cell_type": "code",
   "execution_count": 8,
   "id": "41ce502b",
   "metadata": {},
   "outputs": [
    {
     "data": {
      "text/latex": [
       "$$\n",
       "\n",
       "\\begin{bmatrix}\n",
       "\\tfrac{1}{\\sqrt{2}} & 0 & 0 & 0 & 0 & 0 & 0 & \\tfrac{1}{\\sqrt{2}}  \\\\\n",
       " \\end{bmatrix}\n",
       "$$"
      ],
      "text/plain": [
       "<IPython.core.display.Latex object>"
      ]
     },
     "execution_count": 8,
     "metadata": {},
     "output_type": "execute_result"
    }
   ],
   "source": [
    "from qiskit.visualization import array_to_latex\n",
    "\n",
    "# Forma alternativa de representarlo en latex\n",
    "array_to_latex(state)"
   ]
  },
  {
   "cell_type": "markdown",
   "id": "95151a99",
   "metadata": {},
   "source": [
    "Operador del circuito"
   ]
  },
  {
   "cell_type": "code",
   "execution_count": 9,
   "id": "e53d21cb",
   "metadata": {},
   "outputs": [
    {
     "data": {
      "text/plain": [
       "array([[ 0.70710678+0.j,  0.70710678+0.j,  0.        +0.j,\n",
       "         0.        +0.j,  0.        +0.j,  0.        +0.j,\n",
       "         0.        +0.j,  0.        +0.j],\n",
       "       [ 0.        +0.j,  0.        +0.j,  0.        +0.j,\n",
       "         0.        +0.j,  0.        +0.j,  0.        +0.j,\n",
       "         0.70710678+0.j, -0.70710678+0.j],\n",
       "       [ 0.        +0.j,  0.        +0.j,  0.70710678+0.j,\n",
       "         0.70710678+0.j,  0.        +0.j,  0.        +0.j,\n",
       "         0.        +0.j,  0.        +0.j],\n",
       "       [ 0.        +0.j,  0.        +0.j,  0.        +0.j,\n",
       "         0.        +0.j,  0.70710678+0.j, -0.70710678+0.j,\n",
       "         0.        +0.j,  0.        +0.j],\n",
       "       [ 0.        +0.j,  0.        +0.j,  0.        +0.j,\n",
       "         0.        +0.j,  0.70710678+0.j,  0.70710678+0.j,\n",
       "         0.        +0.j,  0.        +0.j],\n",
       "       [ 0.        +0.j,  0.        +0.j,  0.70710678+0.j,\n",
       "        -0.70710678+0.j,  0.        +0.j,  0.        +0.j,\n",
       "         0.        +0.j,  0.        +0.j],\n",
       "       [ 0.        +0.j,  0.        +0.j,  0.        +0.j,\n",
       "         0.        +0.j,  0.        +0.j,  0.        +0.j,\n",
       "         0.70710678+0.j,  0.70710678+0.j],\n",
       "       [ 0.70710678+0.j, -0.70710678+0.j,  0.        +0.j,\n",
       "         0.        +0.j,  0.        +0.j,  0.        +0.j,\n",
       "         0.        +0.j,  0.        +0.j]])"
      ]
     },
     "execution_count": 9,
     "metadata": {},
     "output_type": "execute_result"
    }
   ],
   "source": [
    "from qiskit.quantum_info import Operator\n",
    "\n",
    "U = Operator(circ)\n",
    "\n",
    "# Mostramos el resultado\n",
    "U.data"
   ]
  },
  {
   "cell_type": "markdown",
   "id": "1ec65697",
   "metadata": {},
   "source": [
    "Modelo realista"
   ]
  },
  {
   "cell_type": "code",
   "execution_count": 10,
   "id": "e31e1665",
   "metadata": {},
   "outputs": [
    {
     "data": {
      "image/png": "[encoded data removed]",
      "text/plain": [
       "<Figure size 507.997x264.88 with 1 Axes>"
      ]
     },
     "execution_count": 10,
     "metadata": {},
     "output_type": "execute_result"
    }
   ],
   "source": [
    "# Creamos un circuito cuantico con medidas\n",
    "meas = QuantumCircuit(3, 3)\n",
    "meas.barrier(range(3))\n",
    "# Mapeamos las medidas cuanticas en los bits clasicos\n",
    "meas.measure(range(3), range(3))\n",
    "\n",
    "# El objeto de circuito Qiskit admite la composición.\n",
    "# Aquí el meas tiene que ser primero y front=True (ponerlo antes) ya que componer debe \n",
    "# poner un circuito más pequeño en uno más grande.\n",
    "qc = meas.compose(circ, range(3), front=True)\n",
    "\n",
    "# dibujamos el circuito\n",
    "qc.draw('mpl')"
   ]
  },
  {
   "cell_type": "code",
   "execution_count": 11,
   "id": "9465b75b",
   "metadata": {},
   "outputs": [],
   "source": [
    "# Agregamos el transpiler para reducir el circuito a instrucciones QASM soportadas por el \n",
    "# backend\n",
    "\n",
    "from qiskit import transpile\n",
    "\n",
    "# Usamos AerSimulator\n",
    "from qiskit.providers.aer import AerSimulator\n",
    "\n",
    "backend = AerSimulator()\n",
    "\n",
    "# Primero tenemos que transpilar el circuito cuantico a las instrucciones QASM de bajo \n",
    "# nivel utilizadas por el backend\n",
    "qc_compiled = transpile(qc, backend)\n",
    "\n",
    "# Ejecutamos el circuito en el simulador qasm.\n",
    "# Hemos establecido el numero de repeticiones del circuito en 1024, que es el valor \n",
    "# predeterminado\n",
    "job_sim = backend.run(qc_compiled, shots=1024)\n",
    "\n",
    "# Tomamos los resultados del trabajo\n",
    "result_sim = job_sim.result()"
   ]
  },
  {
   "cell_type": "markdown",
   "id": "75e52634",
   "metadata": {},
   "source": [
    "Accedemos a las cuentas"
   ]
  },
  {
   "cell_type": "code",
   "execution_count": 12,
   "id": "d3b7ea3d",
   "metadata": {},
   "outputs": [
    {
     "name": "stdout",
     "output_type": "stream",
     "text": [
      "{'000': 522, '111': 502}\n"
     ]
    }
   ],
   "source": [
    "counts = result_sim.get_counts(qc_compiled)\n",
    "print(counts)"
   ]
  },
  {
   "cell_type": "markdown",
   "id": "f56cb687",
   "metadata": {},
   "source": [
    "Visualizamos las cuentas"
   ]
  },
  {
   "cell_type": "code",
   "execution_count": 13,
   "id": "acaf8c7a",
   "metadata": {},
   "outputs": [
    {
     "data": {
      "image/png": "[encoded data removed]",
      "text/plain": [
       "<Figure size 504x360 with 1 Axes>"
      ]
     },
     "execution_count": 13,
     "metadata": {},
     "output_type": "execute_result"
    }
   ],
   "source": [
    "from qiskit.visualization import plot_histogram\n",
    "plot_histogram(counts)"
   ]
  },
  {
   "cell_type": "code",
   "execution_count": null,
   "id": "963ae3b5",
   "metadata": {},
   "outputs": [],
   "source": []
  }
 ],
 "metadata": {
  "kernelspec": {
   "display_name": "Python 3 (ipykernel)",
   "language": "python",
   "name": "python3"
  },
  "language_info": {
   "codemirror_mode": {
    "name": "ipython",
    "version": 3
   },
   "file_extension": ".py",
   "mimetype": "text/x-python",
   "name": "python",
   "nbconvert_exporter": "python",
   "pygments_lexer": "ipython3",
   "version": "3.8.5"
  }
 },
 "nbformat": 4,
 "nbformat_minor": 5
}
