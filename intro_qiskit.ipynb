{
 "cells": [
  {
   "cell_type": "code",
   "execution_count": 1,
   "id": "622ddb8c",
   "metadata": {},
   "outputs": [],
   "source": [
    "import numpy as np\n",
    "from qiskit import QuantumCircuit, transpile\n",
    "from qiskit.providers.aer import QasmSimulator\n",
    "from qiskit.visualization import plot_histogram"
   ]
  },
  {
   "cell_type": "code",
   "execution_count": 2,
   "id": "40a93284",
   "metadata": {},
   "outputs": [
    {
     "name": "stdout",
     "output_type": "stream",
     "text": [
      "\n",
      "Total count for 00 and 11 are: {'00': 508, '11': 492}\n"
     ]
    },
    {
     "data": {
      "text/html": [
       "<pre style=\"word-wrap: normal;white-space: pre;background: #fff0;line-height: 1.1;font-family: &quot;Courier New&quot;,Courier,monospace\">     ┌───┐     ┌─┐   \n",
       "q_0: ┤ H ├──■──┤M├───\n",
       "     └───┘┌─┴─┐└╥┘┌─┐\n",
       "q_1: ─────┤ X ├─╫─┤M├\n",
       "          └───┘ ║ └╥┘\n",
       "c: 2/═══════════╩══╩═\n",
       "                1  0 </pre>"
      ],
      "text/plain": [
       "     ┌───┐     ┌─┐   \n",
       "q_0: ┤ H ├──■──┤M├───\n",
       "     └───┘┌─┴─┐└╥┘┌─┐\n",
       "q_1: ─────┤ X ├─╫─┤M├\n",
       "          └───┘ ║ └╥┘\n",
       "c: 2/═══════════╩══╩═\n",
       "                1  0 "
      ]
     },
     "execution_count": 2,
     "metadata": {},
     "output_type": "execute_result"
    }
   ],
   "source": [
    "# Usa el qasm_simulator Aer\n",
    "simulator = QasmSimulator()\n",
    "\n",
    "# Crea un circuito cuantico actuando sobre el q registrador\n",
    "circuit = QuantumCircuit(2,2)\n",
    "\n",
    "# Aplica una compuerta H sobre el qubit 0\n",
    "circuit.h(0)\n",
    "\n",
    "# Aplica una compuerta CX (CNOT) con el qubit 0 como qubit de control y el qubit 1 como\n",
    "# qubit target\n",
    "circuit.cx(0,1)\n",
    "\n",
    "# Mapea la medida cuantica en bit clasicos\n",
    "circuit.measure([0, 1], [1, 0])\n",
    "# compilar el circuito hasta instrucciones QASM de bajo nivel admitidas por el backend \n",
    "# (no es necesario para circuitos simples)\n",
    "compiled_circuit = transpile(circuit, simulator)\n",
    "\n",
    "# Ejecuta el circuito en el simulador qasm\n",
    "job = simulator.run(compiled_circuit, shots=1000)\n",
    "\n",
    "# Obtiene los resultados del trabajo\n",
    "result = job.result()\n",
    "\n",
    "# Devuelve las cuentas\n",
    "counts = result.get_counts(compiled_circuit)\n",
    "print(\"\\nTotal count for 00 and 11 are:\",counts)\n",
    "\n",
    "# Dibuja el circuito\n",
    "circuit.draw()\n"
   ]
  },
  {
   "cell_type": "code",
   "execution_count": 3,
   "id": "cf32a183",
   "metadata": {},
   "outputs": [
    {
     "data": {
      "image/png": "[encoded data removed]",
      "text/plain": [
       "<Figure size 504x360 with 1 Axes>"
      ]
     },
     "execution_count": 3,
     "metadata": {},
     "output_type": "execute_result"
    }
   ],
   "source": [
    "# Grafica un histograma\n",
    "plot_histogram(counts)"
   ]
  },
  {
   "cell_type": "code",
   "execution_count": null,
   "id": "9109a786",
   "metadata": {},
   "outputs": [],
   "source": []
  }
 ],
 "metadata": {
  "kernelspec": {
   "display_name": "Python 3 (ipykernel)",
   "language": "python",
   "name": "python3"
  },
  "language_info": {
   "codemirror_mode": {
    "name": "ipython",
    "version": 3
   },
   "file_extension": ".py",
   "mimetype": "text/x-python",
   "name": "python",
   "nbconvert_exporter": "python",
   "pygments_lexer": "ipython3",
   "version": "3.8.5"
  }
 },
 "nbformat": 4,
 "nbformat_minor": 5
}
